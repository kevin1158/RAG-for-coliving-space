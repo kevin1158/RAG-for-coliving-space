{
  "nbformat": 4,
  "nbformat_minor": 0,
  "metadata": {
    "colab": {
      "provenance": []
    },
    "kernelspec": {
      "name": "python3",
      "display_name": "Python 3"
    },
    "language_info": {
      "name": "python"
    }
  },
  "cells": [
    {
      "cell_type": "code",
      "source": [
        "import sqlite3\n",
        "\n",
        "# Database file path\n",
        "DATABASE_PATH = 'ColivingMaster.db'  # e.g., 'simulated_data.db'\n",
        "\n",
        "# Connect to the database\n",
        "conn = sqlite3.connect(DATABASE_PATH)\n",
        "cursor = conn.cursor()\n",
        "\n",
        "# Create Tenants table\n",
        "cursor.execute(\"\"\"\n",
        "CREATE TABLE Tenants (\n",
        "    TenantID INTEGER PRIMARY KEY AUTOINCREMENT,\n",
        "    Name VARCHAR(100) NOT NULL,\n",
        "    Email VARCHAR(100) UNIQUE NOT NULL,\n",
        "    Phone VARCHAR(15),\n",
        "    MoveInDate DATE NOT NULL,\n",
        "    MoveOutDate DATE\n",
        ")\n",
        "\"\"\")\n",
        "\n",
        "# Create Employees table\n",
        "cursor.execute(\"\"\"\n",
        "CREATE TABLE Employees (\n",
        "    EmployeeID INTEGER PRIMARY KEY AUTOINCREMENT,\n",
        "    Name VARCHAR(100) NOT NULL,\n",
        "    Role VARCHAR(50) NOT NULL,\n",
        "    Contact VARCHAR(15)\n",
        ")\n",
        "\"\"\")\n",
        "\n",
        "# Create Rooms table\n",
        "cursor.execute(\"\"\"\n",
        "CREATE TABLE Rooms (\n",
        "    RoomID INTEGER PRIMARY KEY AUTOINCREMENT,\n",
        "    RoomType VARCHAR(50) NOT NULL,\n",
        "    Availability BOOLEAN NOT NULL,\n",
        "    Price DECIMAL(10, 2) NOT NULL,\n",
        "    EmployeeID INTEGER,\n",
        "    FOREIGN KEY (EmployeeID) REFERENCES Employees(EmployeeID)\n",
        ")\n",
        "\"\"\")\n",
        "\n",
        "# Create Reservations table\n",
        "cursor.execute(\"\"\"\n",
        "CREATE TABLE Reservations (\n",
        "    ReservationID INTEGER PRIMARY KEY AUTOINCREMENT,\n",
        "    TenantID INTEGER NOT NULL,\n",
        "    RoomID INTEGER NOT NULL,\n",
        "    StartDate DATE NOT NULL,\n",
        "    EndDate DATE NOT NULL,\n",
        "    FOREIGN KEY (TenantID) REFERENCES Tenants(TenantID),\n",
        "    FOREIGN KEY (RoomID) REFERENCES Rooms(RoomID)\n",
        ")\n",
        "\"\"\")\n",
        "\n",
        "# Create Events table\n",
        "cursor.execute(\"\"\"\n",
        "CREATE TABLE Events (\n",
        "    EventID INTEGER PRIMARY KEY AUTOINCREMENT,\n",
        "    EventName VARCHAR(100) NOT NULL,\n",
        "    Date DATE NOT NULL,\n",
        "    Location VARCHAR(100),\n",
        "    RoomID INTEGER,\n",
        "    EmployeeID INTEGER,\n",
        "    StartTime TIME NOT NULL,\n",
        "    EndTime TIME NOT NULL,\n",
        "    FOREIGN KEY (RoomID) REFERENCES Rooms(RoomID),\n",
        "    FOREIGN KEY (EmployeeID) REFERENCES Employees(EmployeeID)\n",
        ")\n",
        "\"\"\")\n",
        "\n",
        "# Create Participation table\n",
        "cursor.execute(\"\"\"\n",
        "CREATE TABLE Participation (\n",
        "    ParticipationID INTEGER PRIMARY KEY AUTOINCREMENT,\n",
        "    TenantID INTEGER NOT NULL,\n",
        "    EventID INTEGER NOT NULL,\n",
        "    Status VARCHAR(20) NOT NULL DEFAULT 'Confirmed',\n",
        "    FOREIGN KEY (TenantID) REFERENCES Tenants(TenantID),\n",
        "    FOREIGN KEY (EventID) REFERENCES Events(EventID)\n",
        ")\n",
        "\"\"\")\n",
        "\n",
        "conn.commit()\n",
        "cursor.close()\n",
        "conn.close()\n",
        "\n",
        "print(\"Tables created!\")"
      ],
      "metadata": {
        "colab": {
          "base_uri": "https://localhost:8080/",
          "height": 211
        },
        "id": "QGBcO9Na3zvq",
        "outputId": "65574c61-14b9-4f9d-9412-21a03ce308d3"
      },
      "execution_count": null,
      "outputs": [
        {
          "output_type": "error",
          "ename": "OperationalError",
          "evalue": "table Tenants already exists",
          "traceback": [
            "\u001b[0;31m---------------------------------------------------------------------------\u001b[0m",
            "\u001b[0;31mOperationalError\u001b[0m                          Traceback (most recent call last)",
            "\u001b[0;32m<ipython-input-3-b3a5863ba63f>\u001b[0m in \u001b[0;36m<cell line: 0>\u001b[0;34m()\u001b[0m\n\u001b[1;32m      9\u001b[0m \u001b[0;34m\u001b[0m\u001b[0m\n\u001b[1;32m     10\u001b[0m \u001b[0;31m# Create Tenants table\u001b[0m\u001b[0;34m\u001b[0m\u001b[0;34m\u001b[0m\u001b[0m\n\u001b[0;32m---> 11\u001b[0;31m cursor.execute(\"\"\"\n\u001b[0m\u001b[1;32m     12\u001b[0m CREATE TABLE Tenants (\n\u001b[1;32m     13\u001b[0m     \u001b[0mTenantID\u001b[0m \u001b[0mINTEGER\u001b[0m \u001b[0mPRIMARY\u001b[0m \u001b[0mKEY\u001b[0m \u001b[0mAUTOINCREMENT\u001b[0m\u001b[0;34m,\u001b[0m\u001b[0;34m\u001b[0m\u001b[0;34m\u001b[0m\u001b[0m\n",
            "\u001b[0;31mOperationalError\u001b[0m: table Tenants already exists"
          ]
        }
      ]
    }
  ]
}